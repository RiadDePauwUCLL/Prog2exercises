{
 "cells": [
  {
   "attachments": {},
   "cell_type": "markdown",
   "metadata": {},
   "source": [
    "You will receive a csv file called “personal data.csv” from us. \n",
    "The file contains information of persons:\n",
    "- Column 1: the person's national register number\n",
    "- Column 2: the surname of the person\n",
    "- Column 3: the first name of the person\n",
    "\n",
    "A national number has the following format: \n",
    "- 3 times 2 digits separated by a dot; this is the date of birth of the person in the form yy.mm.dd (first two digits are the 2 last digits of the year of birth, then a dot, then two digits corresponding to the month of birth, then a dot and then two more digits corresponding to the day of birth)\n",
    "- A dash “-”\n",
    "- Three digits: this is serial number to distinguish persons born on the same day; women get an even serial number, men an odd serial number\n",
    "- One dot\n",
    "- Two digits that act as a control number; how this control is done is not important for this statement\n",
    "A woman born on July 28, 1994 might have the following national registry number: \n",
    "94.07.28-124.89.\n",
    "We wish to create an application to create an overview of the number of births per day of the week. In this overview, the days of the week are represented by their English names, i.e., from “Monday” to “Sunday.”\n",
    "In the following, add the necessary pieces of code."
   ]
  },
  {
   "attachments": {},
   "cell_type": "markdown",
   "metadata": {},
   "source": [
    "Read the file “personal_data.csv” into a panda Dataframe named “data”"
   ]
  },
  {
   "cell_type": "code",
   "execution_count": 5,
   "metadata": {},
   "outputs": [],
   "source": [
    "import pandas as pd\n",
    "import matplotlib.pyplot as plt\n",
    "from datetime import datetime\n",
    "\n",
    "data = pd.read_csv('personal_data.csv')"
   ]
  },
  {
   "attachments": {},
   "cell_type": "markdown",
   "metadata": {},
   "source": [
    "Check that this is done correctly by showing some of the first rows."
   ]
  },
  {
   "cell_type": "code",
   "execution_count": 6,
   "metadata": {},
   "outputs": [
    {
     "data": {
      "text/html": [
       "<div>\n",
       "<style scoped>\n",
       "    .dataframe tbody tr th:only-of-type {\n",
       "        vertical-align: middle;\n",
       "    }\n",
       "\n",
       "    .dataframe tbody tr th {\n",
       "        vertical-align: top;\n",
       "    }\n",
       "\n",
       "    .dataframe thead th {\n",
       "        text-align: right;\n",
       "    }\n",
       "</style>\n",
       "<table border=\"1\" class=\"dataframe\">\n",
       "  <thead>\n",
       "    <tr style=\"text-align: right;\">\n",
       "      <th></th>\n",
       "      <th>rijksregisternummer;naam;voornaam</th>\n",
       "    </tr>\n",
       "  </thead>\n",
       "  <tbody>\n",
       "    <tr>\n",
       "      <th>0</th>\n",
       "      <td>94.07.25-124.89;Lemmens;Elke</td>\n",
       "    </tr>\n",
       "    <tr>\n",
       "      <th>1</th>\n",
       "      <td>96.99.11-133.71;Janssens;Jef</td>\n",
       "    </tr>\n",
       "    <tr>\n",
       "      <th>2</th>\n",
       "      <td>02.122.12-122.32;Elen;Marieke</td>\n",
       "    </tr>\n",
       "    <tr>\n",
       "      <th>3</th>\n",
       "      <td>99.07.01-005.56;Hendriks;Hendrik</td>\n",
       "    </tr>\n",
       "    <tr>\n",
       "      <th>4</th>\n",
       "      <td>93.07.25-1248.89;Lemmens;Elke</td>\n",
       "    </tr>\n",
       "  </tbody>\n",
       "</table>\n",
       "</div>"
      ],
      "text/plain": [
       "  rijksregisternummer;naam;voornaam\n",
       "0      94.07.25-124.89;Lemmens;Elke\n",
       "1      96.99.11-133.71;Janssens;Jef\n",
       "2     02.122.12-122.32;Elen;Marieke\n",
       "3  99.07.01-005.56;Hendriks;Hendrik\n",
       "4     93.07.25-1248.89;Lemmens;Elke"
      ]
     },
     "execution_count": 6,
     "metadata": {},
     "output_type": "execute_result"
    }
   ],
   "source": [
    "print(data.head())"
   ]
  },
  {
   "attachments": {},
   "cell_type": "markdown",
   "metadata": {},
   "source": [
    "Change the national register numbers that do not meet the correct format (for now, consider only good format : 2 digits.2 digits.2 digits-3 digits.2 digits) by None.\n",
    "Display the first rows again to verify that this was successful."
   ]
  },
  {
   "cell_type": "code",
   "execution_count": null,
   "metadata": {},
   "outputs": [],
   "source": [
    "data['national register number'] = data['national register number'].apply(lambda x: None if len(x.split('.')) != 4 or len(x.split('-')[0]) != 6 else x)\n",
    "\n",
    "print(data.head())"
   ]
  },
  {
   "attachments": {},
   "cell_type": "markdown",
   "metadata": {},
   "source": [
    "Change the registry numbers whose first 8 characters do not match a date by None.\n",
    "Display the first rows again to verify that this was successful."
   ]
  },
  {
   "cell_type": "code",
   "execution_count": null,
   "metadata": {},
   "outputs": [],
   "source": [
    "data['national register number'] = data['national register number'].apply(lambda x: None if not x[:8].replace('.','').isdigit() or not datetime.strptime(x[:8], '%y.%m.%d').date().strftime('%Y-%m-%d') else x)"
   ]
  },
  {
   "attachments": {},
   "cell_type": "markdown",
   "metadata": {},
   "source": [
    "Delete the rows in the data frame in which the value None appears in one of the columns.\n",
    "Display the first rows again to verify that this was successful."
   ]
  },
  {
   "cell_type": "code",
   "execution_count": null,
   "metadata": {},
   "outputs": [],
   "source": [
    "data = data.dropna(how='any')\n",
    "\n",
    "print(data.head())"
   ]
  },
  {
   "attachments": {},
   "cell_type": "markdown",
   "metadata": {},
   "source": [
    "Modify the dataframe by adding a column named “date of birth” representing the date of birth as a datetime object.\n",
    "Display the first rows again to verify that this was successful."
   ]
  },
  {
   "cell_type": "code",
   "execution_count": null,
   "metadata": {},
   "outputs": [],
   "source": [
    "data['date of birth'] = data['national register number'].apply(lambda x: None if x is None else datetime.strptime(x[:8], '%y.%m.%d').date())"
   ]
  },
  {
   "attachments": {},
   "cell_type": "markdown",
   "metadata": {},
   "source": [
    "Modify the data frame by adding a column named “day” that represents the day in the week that the person was born; the days are the English names for the days.\n",
    "Display the first rows again to verify that this was successful."
   ]
  },
  {
   "cell_type": "code",
   "execution_count": null,
   "metadata": {},
   "outputs": [],
   "source": [
    "data['day'] = data['date of birth'].apply(lambda x: None if x is None else x.strftime('%A'))\n",
    "\n",
    "print(data.head())"
   ]
  },
  {
   "attachments": {},
   "cell_type": "markdown",
   "metadata": {},
   "source": [
    "Run next piece of code."
   ]
  },
  {
   "cell_type": "code",
   "execution_count": null,
   "metadata": {},
   "outputs": [],
   "source": [
    "births_per_day = data.groupby('day')['national register number'].count()"
   ]
  },
  {
   "attachments": {},
   "cell_type": "markdown",
   "metadata": {},
   "source": [
    "Show a visual overview in the form of a histogram of the number of births by day of the week. "
   ]
  },
  {
   "cell_type": "code",
   "execution_count": null,
   "metadata": {},
   "outputs": [],
   "source": [
    "plt.figure(figsize=(10, 5))\n",
    "births_per_day.plot(kind='bar')\n",
    "plt.xlabel('Day of the Week')\n",
    "plt.ylabel('Number of Births')\n",
    "plt.title('Births per Day of the Week')\n",
    "plt.show()"
   ]
  }
 ],
 "metadata": {
  "kernelspec": {
   "display_name": "base",
   "language": "python",
   "name": "python3"
  },
  "language_info": {
   "name": "python",
   "version": "3.9.13"
  },
  "orig_nbformat": 4
 },
 "nbformat": 4,
 "nbformat_minor": 2
}
